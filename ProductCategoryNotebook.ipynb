{
 "cells": [
  {
   "cell_type": "markdown",
   "id": "9be44732",
   "metadata": {},
   "source": [
    "# Анализ связей «Продукт–Категория» в PySpark"
   ]
  },
  {
   "cell_type": "markdown",
   "id": "4b3c58f3",
   "metadata": {},
   "source": [
    "# Подключение сделано скорее с целью демонстрации"
   ]
  },
  {
   "cell_type": "code",
   "execution_count": 38,
   "id": "251d9418-5abe-4b40-b130-f6d40dc5afe8",
   "metadata": {},
   "outputs": [
    {
     "name": "stdout",
     "output_type": "stream",
     "text": [
      "Requirement already satisfied: pyspark in c:\\users\\ratmir\\source\\repos\\mindbox-juniorde-test-task-pyspark\\venv\\lib\\site-packages (3.5.5)\n",
      "Requirement already satisfied: findspark in c:\\users\\ratmir\\source\\repos\\mindbox-juniorde-test-task-pyspark\\venv\\lib\\site-packages (2.0.1)\n",
      "Requirement already satisfied: py4j==0.10.9.7 in c:\\users\\ratmir\\source\\repos\\mindbox-juniorde-test-task-pyspark\\venv\\lib\\site-packages (from pyspark) (0.10.9.7)\n",
      "Note: you may need to restart the kernel to use updated packages.\n"
     ]
    },
    {
     "name": "stderr",
     "output_type": "stream",
     "text": [
      "WARNING: You are using pip version 21.2.3; however, version 25.1.1 is available.\n",
      "You should consider upgrading via the 'C:\\Users\\ratmir\\source\\repos\\Mindbox-JuniorDE-Test-Task-PySpark\\venv\\Scripts\\python.exe -m pip install --upgrade pip' command.\n"
     ]
    }
   ],
   "source": [
    "%pip install pyspark findspark"
   ]
  },
  {
   "cell_type": "code",
   "execution_count": 39,
   "id": "2f8a74e7-788f-4f0d-a4a6-ab9a72d18e38",
   "metadata": {},
   "outputs": [],
   "source": [
    "import pyspark\n",
    "from pyspark.sql import SparkSession\n",
    "spark = SparkSession.builder.appName(\"Product-Category Analysis\").getOrCreate()"
   ]
  },
  {
   "cell_type": "code",
   "execution_count": 40,
   "id": "e664c09c",
   "metadata": {},
   "outputs": [],
   "source": [
    "df_products = spark.read.csv(\"products.csv\", header=True, inferSchema=True)"
   ]
  },
  {
   "cell_type": "code",
   "execution_count": 41,
   "id": "8efa905d",
   "metadata": {},
   "outputs": [],
   "source": [
    "df_categories = spark.read.csv(\"categories.csv\", header=True, inferSchema=True)"
   ]
  },
  {
   "cell_type": "code",
   "execution_count": 42,
   "id": "c9165a16-1e8f-41b2-8ac4-2246d3f9c6d1",
   "metadata": {},
   "outputs": [],
   "source": [
    "df_product_categories = spark.read.csv(\"product_categories.csv\", header=True, inferSchema=True)"
   ]
  },
  {
   "cell_type": "markdown",
   "id": "b7adb173",
   "metadata": {},
   "source": [
    "# Требуемая по заданию функция"
   ]
  },
  {
   "cell_type": "code",
   "execution_count": 45,
   "id": "1ac8e71a-0311-4046-a117-ec54d7473ccc",
   "metadata": {},
   "outputs": [],
   "source": [
    "from pyspark.sql import DataFrame\n",
    "from pyspark.sql.functions import col\n",
    "\n",
    "\n",
    "def get_product_category_pairs(\n",
    "    products: DataFrame,\n",
    "    product_categories: DataFrame,\n",
    "    categories: DataFrame\n",
    ") -> DataFrame:\n",
    "    \"\"\"\n",
    "    Возвращает датафрейм со всеми парами (Имя продукта – Имя категории),\n",
    "    а для продуктов без категорий выводит строки в формате (Имя строки - NULL)\n",
    "\n",
    "    :param products: df товаров\n",
    "    :param product_categories: df связей категорий и товаров по id\n",
    "    :param categories: df категорий\n",
    "    :return: DataFrame(product_name STRING, category_name STRING)\n",
    "    \"\"\"\n",
    "    return (\n",
    "        products.alias(\"p\")\n",
    "        .join(\n",
    "            product_categories.alias(\"pc\"),\n",
    "            col(\"p.id\") == col(\"pc.product_id\"),\n",
    "            how=\"left\"\n",
    "        )\n",
    "        .join(\n",
    "            categories.alias(\"c\"),\n",
    "            col(\"pc.category_id\") == col(\"c.id\"),\n",
    "            how=\"left\"\n",
    "        )\n",
    "        .select(\n",
    "            col(\"p.name\").alias(\"product_name\"),\n",
    "            col(\"c.name\").alias(\"category_name\")\n",
    "        )\n",
    "    )"
   ]
  },
  {
   "cell_type": "markdown",
   "id": "5a2f8ab9",
   "metadata": {},
   "source": [
    "# Запуск демонстрации"
   ]
  },
  {
   "cell_type": "code",
   "execution_count": 46,
   "id": "e5368855",
   "metadata": {},
   "outputs": [
    {
     "name": "stdout",
     "output_type": "stream",
     "text": [
      "+--------------------+-------------+\n",
      "|product_name        |category_name|\n",
      "+--------------------+-------------+\n",
      "|Смартфон Samsung    |Канцтовары   |\n",
      "|Смартфон Samsung    |Техника      |\n",
      "|Яблоки              |Продукты     |\n",
      "|Джинсы Levi's       |Одежда       |\n",
      "|Ноутбук Lenovo      |Техника      |\n",
      "|Молоко Простоквашино|Продукты     |\n",
      "|Футболка Nike       |Одежда       |\n",
      "|Пылесос Dyson       |Техника      |\n",
      "|Платье Mango        |Одежда       |\n",
      "|Сырники             |Продукты     |\n",
      "|Сок Добрый          |Продукты     |\n",
      "|Телевизор LG        |Техника      |\n",
      "|Кроссовки Adidas    |Одежда       |\n",
      "|Пальто Zara         |Одежда       |\n",
      "|Бананы              |Продукты     |\n",
      "|Куртка Columbia     |Одежда       |\n",
      "|Хлеб Бородинский    |Продукты     |\n",
      "|Куриное филе        |Продукты     |\n",
      "|Сыр Российский      |Продукты     |\n",
      "|Ручка Parker        |Канцтовары   |\n",
      "|Блокнот Moleskine   |NULL         |\n",
      "+--------------------+-------------+\n",
      "\n"
     ]
    }
   ],
   "source": [
    "products = df_products.withColumn(\"id\", col(\"id\").cast(\"long\"))\n",
    "categories = df_categories.withColumn(\"id\", col(\"id\").cast(\"long\"))\n",
    "product_categories = df_product_categories \\\n",
    "    .withColumn(\"product_id\", col(\"product_id\").cast(\"long\")) \\\n",
    "    .withColumn(\"category_id\", col(\"category_id\").cast(\"long\"))\n",
    "\n",
    "result_df = get_product_category_pairs(products, product_categories, categories)\n",
    "\n",
    "result_df.show(n=100, truncate=False)\n",
    "#spark.stop()"
   ]
  },
  {
   "cell_type": "code",
   "execution_count": null,
   "id": "70713bb8-237b-464b-9203-7c4a36948cad",
   "metadata": {},
   "outputs": [],
   "source": []
  }
 ],
 "metadata": {
  "kernelspec": {
   "display_name": "Python 3 (ipykernel)",
   "language": "python",
   "name": "python3"
  },
  "language_info": {
   "codemirror_mode": {
    "name": "ipython",
    "version": 3
   },
   "file_extension": ".py",
   "mimetype": "text/x-python",
   "name": "python",
   "nbconvert_exporter": "python",
   "pygments_lexer": "ipython3",
   "version": "3.10.0"
  }
 },
 "nbformat": 4,
 "nbformat_minor": 5
}
